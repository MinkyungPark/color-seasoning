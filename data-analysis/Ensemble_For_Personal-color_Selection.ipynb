{
 "cells": [
  {
   "cell_type": "markdown",
   "metadata": {},
   "source": [
    "# Ensemble for Personal-Color selection"
   ]
  },
  {
   "cell_type": "markdown",
   "metadata": {},
   "source": [
    "## Init data set"
   ]
  },
  {
   "cell_type": "code",
   "execution_count": 5,
   "metadata": {},
   "outputs": [],
   "source": [
    "Warm=[[243, 129, 141],\n",
    " [238, 131, 140],\n",
    " [231, 134, 146],\n",
    " [224, 136, 151],\n",
    " [205, 139, 150],\n",
    " [194, 138, 154],\n",
    " [190, 141, 164],\n",
    " [192, 141, 153],\n",
    " [175, 145, 159],\n",
    " [184, 137, 154],\n",
    " [185, 142, 159]]"
   ]
  },
  {
   "cell_type": "code",
   "execution_count": 6,
   "metadata": {},
   "outputs": [],
   "source": [
    "Cool=[[231, 136, 142],\n",
    " [228, 136, 146],\n",
    " [217, 143, 149],\n",
    " [214, 137, 141],\n",
    " [193, 146, 148],\n",
    " [184, 141, 148],\n",
    " [182, 143, 150],\n",
    " [183, 146, 149],\n",
    " [118, 150, 164],\n",
    " [127, 143, 157],\n",
    " [112, 144, 157],\n",
    " [92, 141, 148],\n",
    " [64, 154, 154],\n",
    " [57, 145, 138],\n",
    " [53, 149, 141],\n",
    " [51, 143, 134]]"
   ]
  },
  {
   "cell_type": "markdown",
   "metadata": {},
   "source": [
    "These datas are colors with [CIELAB color space](https://en.wikipedia.org/wiki/CIELAB_color_space)\n",
    "\n",
    "Cause, LAB color space contain the Luminant, Red, Yellow value. It likes to the Color tone."
   ]
  },
  {
   "cell_type": "markdown",
   "metadata": {},
   "source": [
    "## How can we divide the Tone"
   ]
  },
  {
   "cell_type": "code",
   "execution_count": 9,
   "metadata": {},
   "outputs": [
    {
     "data": {
      "text/plain": [
       "[-0.04938271604938271,\n",
       " -0.037815126050420145,\n",
       " -0.051948051948051965,\n",
       " -0.06696428571428581,\n",
       " -0.05365853658536579,\n",
       " -0.08247422680412364,\n",
       " -0.12105263157894741,\n",
       " -0.0625,\n",
       " -0.07999999999999996,\n",
       " -0.09239130434782616,\n",
       " -0.09189189189189184]"
      ]
     },
     "execution_count": 9,
     "metadata": {},
     "output_type": "execute_result"
    }
   ],
   "source": [
    "[n[1]/n[0]-n[2]/n[0] for n in Warm]"
   ]
  },
  {
   "cell_type": "code",
   "execution_count": 10,
   "metadata": {},
   "outputs": [
    {
     "data": {
      "text/plain": [
       "[-0.02597402597402587,\n",
       " -0.04385964912280704,\n",
       " -0.027649769585253448,\n",
       " -0.01869158878504673,\n",
       " -0.01036269430051806,\n",
       " -0.03804347826086962,\n",
       " -0.038461538461538436,\n",
       " -0.016393442622950838,\n",
       " -0.1186440677966103,\n",
       " -0.11023622047244097,\n",
       " -0.11607142857142838,\n",
       " -0.07608695652173925,\n",
       " 0.0,\n",
       " 0.12280701754385959,\n",
       " 0.15094339622641506,\n",
       " 0.17647058823529393]"
      ]
     },
     "execution_count": 10,
     "metadata": {},
     "output_type": "execute_result"
    }
   ],
   "source": [
    "[n[1]/n[0]-n[2]/n[0] for n in Cool]"
   ]
  },
  {
   "cell_type": "markdown",
   "metadata": {},
   "source": [
    "a/b values will make 2clusters.\n",
    "\n",
    "So, We can use ordernary decision models"
   ]
  },
  {
   "cell_type": "markdown",
   "metadata": {},
   "source": [
    "## desicion"
   ]
  },
  {
   "cell_type": "code",
   "execution_count": 1,
   "metadata": {},
   "outputs": [],
   "source": [
    "import matplotlib as mpl\n",
    "from mpl_toolkits.mplot3d import Axes3D\n",
    "import numpy as np     \n"
   ]
  },
  {
   "cell_type": "code",
   "execution_count": 12,
   "metadata": {},
   "outputs": [],
   "source": [
    "import matplotlib.pyplot as plt  "
   ]
  },
  {
   "cell_type": "code",
   "execution_count": 13,
   "metadata": {
    "scrolled": true
   },
   "outputs": [
    {
     "data": {
      "text/plain": [
       "[<matplotlib.lines.Line2D at 0x1590315b4e0>]"
      ]
     },
     "execution_count": 13,
     "metadata": {},
     "output_type": "execute_result"
    },
    {
     "data": {
      "image/png": "[encoded data removed]",
      "text/plain": [
       "<Figure size 432x288 with 1 Axes>"
      ]
     },
     "metadata": {},
     "output_type": "display_data"
    }
   ],
   "source": [
    "fig = plt.figure()\n",
    "ax = fig.gca()\n",
    "theta = np.linspace(-4 * np.pi, 4 * np.pi, 100)\n",
    "#z = np.linspace(0, 300, 100)\n",
    "\n",
    "x_min = min([n[1] for n in Warm]+[n[1] for n in Cool]) - 3\n",
    "x_max = max([n[1] for n in Warm]+[n[1] for n in Cool]) + 3\n",
    "\n",
    "y_min = min([n[2] for n in Warm]+[n[2] for n in Cool]) - 3\n",
    "y_max = max([n[2] for n in Warm]+[n[2] for n in Cool]) + 3\n",
    "\n",
    "plt.xlim(x_min, x_max)\n",
    "plt.ylim(y_min, y_max)\n",
    "\n",
    "ax.plot( [n[1] for n in Warm],[n[2] for n in Warm],'ro')\n",
    "ax.plot( [n[1] for n in Cool],[n[2] for n in Cool],'bo')"
   ]
  },
  {
   "cell_type": "markdown",
   "metadata": {},
   "source": [
    "Red dots are Warm tone, Blue dots are Cool tone.\n",
    "X axis is A, Y axis is B."
   ]
  },
  {
   "cell_type": "code",
   "execution_count": 14,
   "metadata": {},
   "outputs": [
    {
     "data": {
      "text/plain": [
       "[243, 238, 231, 224, 205, 194, 190, 192, 175, 184, 185]"
      ]
     },
     "execution_count": 14,
     "metadata": {},
     "output_type": "execute_result"
    }
   ],
   "source": [
    "[n[0] for n in Warm]"
   ]
  },
  {
   "cell_type": "code",
   "execution_count": 15,
   "metadata": {},
   "outputs": [
    {
     "name": "stdout",
     "output_type": "stream",
     "text": [
      "[[129, 141], [131, 140], [134, 146], [136, 151], [139, 150], [138, 154], [141, 164], [141, 153], [145, 159], [137, 154], [142, 159]]\n",
      "[[136, 142], [136, 146], [143, 149], [137, 141], [146, 148], [141, 148], [143, 150], [146, 149], [150, 164], [143, 157], [144, 157], [141, 148], [154, 154], [145, 138], [149, 141], [143, 134]]\n"
     ]
    }
   ],
   "source": [
    "warm= [[n[1],n[2]] for n in Warm]\n",
    "print(warm)\n",
    "\n",
    "cool = [[n[1],n[2]] for n in Cool]\n",
    "print(cool)"
   ]
  },
  {
   "cell_type": "code",
   "execution_count": 16,
   "metadata": {},
   "outputs": [],
   "source": [
    "X = warm+cool"
   ]
  },
  {
   "cell_type": "code",
   "execution_count": 17,
   "metadata": {},
   "outputs": [
    {
     "name": "stdout",
     "output_type": "stream",
     "text": [
      "[[143, 154], [143, 155], [143, 154], [142, 156], [142, 156], [142, 156], [140, 157], [140, 157], [140, 157], [135, 152], [135, 152], [135, 152], [137, 153], [137, 153], [137, 153], [138, 154], [138, 154], [138, 155], [139, 152], [138, 153], [139, 152], [135, 148], [135, 149], [135, 148], [134, 144], [134, 144], [134, 144], [134, 144], [134, 144], [134, 144]]\n",
      "[[140, 146], [139, 146], [140, 146], [142, 153], [142, 153], [142, 153], [140, 153], [140, 153], [140, 153], [138, 152], [138, 152], [138, 152], [138, 150], [138, 145], [138, 145], [138, 145]]\n"
     ]
    }
   ],
   "source": [
    "mabelline_warm = [[85,143,154],[88,143,155],[87,143,154],[107,142,156],[107,142,156],[107,142,156],[149,140,157],[149,140,157],[149,140,157],[154,135,152],[154,135,152],[154,135,152],[162,137,153],[162,137,153],[162,137,153],[172,138,154],[172,138,154],[174,138,155],[179,139,152],[183,138,153],[179,139,152],[183,135,148],[188,135,149],[183,135,148],[190,134,144],[190,134,144],[190,134,144],[193,134,144],[193,134,144],[193,134,144]]\n",
    "mabelline_cool = [[56,140,146],[56,139,146],[56,140,146],[73,142,153],[73,142,153],[73,142,153],[114,140,153],[114,140,153],[114,140,153],[158,138,152],[158,138,152],[158,138,152],[168,138,150],[182,138,145],[182,138,145],[182,138,145]]\n",
    "\n",
    "warm2= [[n[1],n[2]] for n in mabelline_warm]\n",
    "print(warm2)\n",
    "\n",
    "cool2 = [[n[1],n[2]] for n in mabelline_cool]\n",
    "print(cool2)"
   ]
  },
  {
   "cell_type": "code",
   "execution_count": 18,
   "metadata": {},
   "outputs": [],
   "source": [
    "X2 = warm2+cool2"
   ]
  },
  {
   "cell_type": "code",
   "execution_count": 19,
   "metadata": {},
   "outputs": [],
   "source": [
    "Y = [0 for n in Warm] + [1 for n in Cool ]\n",
    "Y2 = [0 for n in warm2] + [1 for n in cool2 ]"
   ]
  },
  {
   "cell_type": "code",
   "execution_count": 20,
   "metadata": {},
   "outputs": [
    {
     "name": "stdout",
     "output_type": "stream",
     "text": [
      "[[138, 153], [135, 157], [138, 158], [143, 157], [142, 151], [142, 154], [146, 162], [146, 155], [146, 148], [149, 153], [150, 156]]\n",
      "[[136, 149], [146, 148], [144, 152], [146, 153], [145, 155], [145, 157], [147, 153], [152, 154], [141, 142]]\n"
     ]
    }
   ],
   "source": [
    "mk_warm_tone = [[80,10,25],[78,7,29],[75,10,30],[72,15,29],[68,14,23],[71,14,26],[68,18,34],[61,18,27],[43,18,20],[51,21,25],[56,22,28]]\n",
    "mk_cool_tone = [[84,8,21],[75,18,20],[73,16,24],[62,18,25],[68,17,27],[66,17,29],[57,19,25],[42,24,26],[28,13,14]]\n",
    "\n",
    "warm3 = [[min(n[1]+128, 255),min(n[2]+128, 255)] for n in mk_warm_tone]\n",
    "cool3 = [[min(n[1]+128, 255),min(n[2]+128, 255)] for n in mk_cool_tone]\n",
    "\n",
    "\n",
    "#warm3= [[n[1],n[2]] for n in mk_warm_tone]\n",
    "print(warm3)\n",
    "\n",
    "#cool3 = [[n[1],n[2]] for n in mk_cool_tone]\n",
    "print(cool3)"
   ]
  },
  {
   "cell_type": "code",
   "execution_count": 21,
   "metadata": {},
   "outputs": [
    {
     "name": "stdout",
     "output_type": "stream",
     "text": [
      "[[146, 138], [145, 145], [146, 148], [145, 148], [149, 152], [141, 149], [141, 147], [146, 149], [140, 147], [141, 152], [143, 150], [145, 146], [141, 148], [140, 151], [139, 150], [140, 148], [136, 148], [134, 148], [135, 144], [133, 143], [129, 144], [136, 140], [132, 137]]\n",
      "[[141, 139], [145, 140], [149, 147], [148, 150], [147, 146], [150, 152], [148, 147], [146, 151], [138, 148], [144, 144], [138, 143], [138, 143], [148, 137], [135, 143], [143, 143], [136, 143]]\n"
     ]
    }
   ],
   "source": [
    "mk_warm_tone2 = [[109,146,138],[123,145,145],[142,146,148],[149,145,148],[157,149,152],[169,141,149],[171,141,147],[176,146,149],[182,140,147],[196,141,152],[183,143,150],[179,145,146],[194,141,148],[194,140,151],[187,139,150],[188,140,148],[202,136,148],[209,134,148],[213,135,144],[220,133,143],[211,129,144],[224,136,140],[234,132,137]]\n",
    "mk_cool_tone2 = [[79,141,139],[93,145,140],[108,149,147],[121,148,150],[154,147,146],[158,150,152],[173,148,147],[170,146,151],[194,138,148],[186,144,144],[216,138,143],[207,138,143],[207,148,137],[205,135,143],[212,143,143],[220,136,143]]\n",
    "\n",
    "#warm4 = [[min(n[1]+128, 255),min(n[2]+128, 255)] for n in mk_warm_tone2]\n",
    "#cool4 = [[min(n[1]+128, 255),min(n[2]+128, 255)] for n in mk_cool_tone2]\n",
    "\n",
    "\n",
    "warm4= [[n[1],n[2]] for n in mk_warm_tone2]\n",
    "print(warm4)\n",
    "\n",
    "cool4 = [[n[1],n[2]] for n in mk_cool_tone2]\n",
    "print(cool4)"
   ]
  },
  {
   "cell_type": "code",
   "execution_count": 22,
   "metadata": {},
   "outputs": [
    {
     "name": "stdout",
     "output_type": "stream",
     "text": [
      "[[147, 152], [151, 154], [150, 158], [148, 158], [146, 166], [143, 161], [144, 164], [145, 164], [148, 159], [141, 159], [138, 155], [141, 157], [138, 156], [138, 153], [137, 155], [139, 148]]\n",
      "[[142, 142], [153, 150], [147, 145], [152, 162], [150, 153], [149, 157], [150, 162], [148, 161], [146, 160], [144, 153], [141, 152], [137, 150], [139, 150]]\n"
     ]
    }
   ],
   "source": [
    "lancome_cool=[[35,142,142],[86,153,150],[54,147,145],[83,152,162],[119,150,153],[146,149,157],[108,150,162],[164,148,161],[167,146,160],[180,144,153],[192,141,152],[194,137,150],[207,139,150]]\n",
    "lancome_warm=[[81,147,152],[101,151,154],[129,150,158],[150,148,158],[148,146,166],[165,143,161],[170,144,164],[181,145,164],[181,148,159],[185,141,159],[193,138,155],[206,141,157],[211,138,156],[197,138,153],[199,137,155],[204,139,148]]\n",
    "\n",
    "#warm5 = [[min(n[1]+128, 255),min(n[2]+128, 255)] for n in mk_warm_tone3]\n",
    "#cool5 = [[min(n[1]+128, 255),min(n[2]+128, 255)] for n in mk_cool_tone3]\n",
    "\n",
    "\n",
    "warm5= [[n[1],n[2]] for n in lancome_warm]\n",
    "print(warm5)\n",
    "\n",
    "cool5 = [[n[1],n[2]] for n in lancome_cool]\n",
    "print(cool5)"
   ]
  },
  {
   "cell_type": "markdown",
   "metadata": {},
   "source": [
    "Add the new case of the warm and cool tone datas.\n",
    "\n",
    "They are from The cosmetic companies foundation color sets."
   ]
  },
  {
   "cell_type": "markdown",
   "metadata": {},
   "source": [
    "## Ensemble"
   ]
  },
  {
   "cell_type": "code",
   "execution_count": 33,
   "metadata": {},
   "outputs": [
    {
     "name": "stderr",
     "output_type": "stream",
     "text": [
      "D:\\ProgramData\\Anaconda3\\envs\\tensorflow-gpu\\lib\\site-packages\\sklearn\\preprocessing\\label.py:151: DeprecationWarning: The truth value of an empty array is ambiguous. Returning False, but in future this will result in an error. Use `array.size > 0` to check that an array is not empty.\n",
      "  if diff:\n",
      "No handles with labels found to put in legend.\n"
     ]
    },
    {
     "name": "stdout",
     "output_type": "stream",
     "text": [
      "[0 0 0 ... 1 1 1]\n"
     ]
    },
    {
     "data": {
      "image/png": "[encoded data removed]",
      "text/plain": [
       "<Figure size 432x288 with 1 Axes>"
      ]
     },
     "metadata": {},
     "output_type": "display_data"
    }
   ],
   "source": [
    "import numpy as np\n",
    "import matplotlib.pyplot as plt\n",
    "\n",
    "from sklearn.ensemble import AdaBoostClassifier\n",
    "from sklearn.tree import DecisionTreeClassifier\n",
    "from sklearn.neighbors import KNeighborsClassifier\n",
    "from sklearn.svm import SVC\n",
    "from sklearn.ensemble import GradientBoostingClassifier\n",
    "from itertools import product\n",
    "from sklearn.ensemble import VotingClassifier\n",
    "from sklearn.linear_model import SGDClassifier\n",
    "from sklearn.naive_bayes import GaussianNB\n",
    "#data = np.loadtxt(\"data.txt\", delimiter=',')\n",
    "#dim = warm.shape\n",
    "\n",
    "#Warm = warm+warm2+warm4+warm5\n",
    "#Cool = cool+cool2+cool4+warm5\n",
    "\n",
    "Warm = warm +warm2+warm5\n",
    "Cool = cool+cool2+cool5\n",
    "x_min = min([n[0] for n in Warm]+[n[0] for n in Cool]) - 3\n",
    "x_max = max([n[0] for n in Warm]+[n[0] for n in Cool]) + 3\n",
    "y_min = min([n[1] for n in Warm]+[n[1] for n in Cool]) - 3\n",
    "y_max = max([n[1] for n in Warm]+[n[1] for n in Cool]) + 3\n",
    "\n",
    "plt.xlim(x_min, x_max)\n",
    "plt.ylim(y_min, y_max)\n",
    "\n",
    "\n",
    "plt.plot( [n[0] for n in warm],[n[1] for n in warm],'ro')\n",
    "plt.plot( [n[0] for n in cool],[n[1] for n in cool],'bo')\n",
    "\n",
    "plt.plot( [n[0] for n in warm5],[n[1] for n in warm5],'ro', marker='s')\n",
    "plt.plot( [n[0] for n in cool5],[n[1] for n in cool5],'bo', marker='s')\n",
    "\n",
    "#plt.plot( [n[0] for n in warm3],[n[1] for n in warm3],'ro', marker='*')\n",
    "#plt.plot( [n[0] for n in cool3],[n[1] for n in cool3],'bo', marker='*')\n",
    "\n",
    "plt.plot( [n[0] for n in warm2],[n[1] for n in warm2],'ro', marker='*')\n",
    "plt.plot( [n[0] for n in cool2],[n[1] for n in cool2],'bo', marker='*')\n",
    "\n",
    "\n",
    "X = Warm+ Cool\n",
    "Y = [0 for n in Warm] + [1 for n in Cool]\n",
    "\n",
    "y = Y\n",
    "\n",
    "bdt1 = GradientBoostingClassifier(n_estimators=100, learning_rate=1.0, max_depth=1, random_state=0)\n",
    "bdt2 = AdaBoostClassifier(DecisionTreeClassifier(max_depth=1), algorithm=\"SAMME\", n_estimators=200)\n",
    "bdt3 = KNeighborsClassifier(n_neighbors=3)\n",
    "bdt4 = KNeighborsClassifier(n_neighbors=9)\n",
    "bdt5 = SVC(kernel='poly', probability=True)\n",
    "bdt6 = GaussianNB()\n",
    "bdt7 = KNeighborsClassifier(n_neighbors=5)\n",
    "\n",
    "\n",
    "eclf = VotingClassifier(estimators=[('gbc', bdt1),('ada', bdt2),('dtc', bdt3),('knn', bdt4),('svc', bdt5),('gnb', bdt6),('knn3', bdt7)], voting='soft', \\\n",
    "                        weights=[0.01,0.01,0.5,2,0.5,2,0.5])\n",
    "bdt = eclf\n",
    "\n",
    "\n",
    "bdt1 = bdt1.fit(X,Y)\n",
    "bdt2 = bdt2.fit(X,Y)\n",
    "bdt3 = bdt3.fit(X,Y)\n",
    "bdt4 = bdt4.fit(X,Y)\n",
    "bdt5 = bdt5.fit(X,Y)\n",
    "bdt6 = bdt6.fit(X,Y)\n",
    "bdt7 = bdt7.fit(X,Y)\n",
    "\n",
    "#clf1 = clf1.fit(X,y)\n",
    "#clf2 = clf2.fit(X,y)\n",
    "#clf3 = clf3.fit(X,y)\n",
    "#bdt = eclf.fit(X,y)\n",
    "\n",
    "\n",
    "\n",
    "#bdt = GradientBoostingClassifier(n_estimators=100, learning_rate=1.0, max_depth=1, random_state=0)\n",
    "#bdt = AdaBoostClassifier(DecisionTreeClassifier(max_depth=1), algorithm=\"SAMME\", n_estimators=200)\n",
    "#bdt = DecisionTreeClassifier(max_depth=4)\n",
    "#bdt = KNeighborsClassifier(n_neighbors=7)\n",
    "#bdt = SVC(kernel='rbf', probability=True)\n",
    "#bdt = SGDClassifier(loss=\"hinge\", penalty=\"l2\")#\n",
    "#bdt = KNeighborsClassifier()\n",
    "#bdt = GaussianNB()\n",
    "bdt = bdt.fit(X, Y)\n",
    "\n",
    "# ploting parameters setting\n",
    "plot_colors = \"rb\"\n",
    "plot_step = 0.2\n",
    "class_names = \"AB\"\n",
    "\n",
    "# plot the decision boundary\n",
    "#x_min, x_max = X[:, 0].min() - 1, X[:, 0].max() + 1\n",
    "#y_min, y_max = X[:, 1].min() - 1, X[:, 1].max() + 1\n",
    "#x_min = y_min = 100\n",
    "#x_max = y_max = 250\n",
    "\n",
    "xx, yy = np.meshgrid(np.arange(x_min, x_max, plot_step),np.arange(y_min, y_max, plot_step))\n",
    "Z = bdt.predict(np.c_[xx.ravel(), yy.ravel()])\n",
    "print(Z)\n",
    "\n",
    "Z = Z.reshape(xx.shape)\n",
    "cs = plt.contourf(xx, yy, Z, cmap=plt.cm.Paired)\n",
    "\n",
    "# plot the training points\n",
    "#for i, n, c in zip(range(2), class_names, plot_colors):\n",
    "    #idx = np.where(Y == i)\n",
    "#    plt.scatter(X[idx, 0], X[idx, 1], c=c, cmap=plt.cm.Paired, label=\"Class %s\" % n)\n",
    "\n",
    "plt.legend(loc='upper right')\n",
    "plt.xlabel('x')\n",
    "plt.ylabel('y')\n",
    "plt.title('Decision Boundary')\n",
    "\n",
    "plt.show()"
   ]
  },
  {
   "cell_type": "code",
   "execution_count": 24,
   "metadata": {},
   "outputs": [],
   "source": [
    "def tttt(n):\n",
    "    xx, yy = np.meshgrid(np.arange(x_min, x_max, plot_step),np.arange(y_min, y_max, plot_step))\n",
    "    bdt_ = eval('bdt'+str(n))\n",
    "    Z = bdt_.predict(np.c_[xx.ravel(), yy.ravel()])\n",
    "    print(Z)\n",
    "    plt.plot( [n[0] for n in warm],[n[1] for n in warm],'ro')\n",
    "    plt.plot( [n[0] for n in cool],[n[1] for n in cool],'bo')\n",
    "\n",
    "    plt.plot( [n[0] for n in warm2],[n[1] for n in warm2],'ro', marker='s')\n",
    "    plt.plot( [n[0] for n in cool2],[n[1] for n in cool2],'bo', marker='s')\n",
    "    Z = Z.reshape(xx.shape)\n",
    "    cs = plt.contourf(xx, yy, Z, cmap=plt.cm.Paired)\n",
    "\n",
    "    # plot the training points\n",
    "    #for i, n, c in zip(range(2), class_names, plot_colors):\n",
    "        #idx = np.where(Y == i)\n",
    "    #    plt.scatter(X[idx, 0], X[idx, 1], c=c, cmap=plt.cm.Paired, label=\"Class %s\" % n)\n",
    "\n",
    "    plt.legend(loc='upper right')\n",
    "    plt.xlabel('x')\n",
    "    plt.ylabel('y')\n",
    "    plt.title('Decision Boundary')\n",
    "\n",
    "    plt.show()"
   ]
  },
  {
   "cell_type": "code",
   "execution_count": 25,
   "metadata": {},
   "outputs": [
    {
     "name": "stderr",
     "output_type": "stream",
     "text": [
      "No handles with labels found to put in legend.\n"
     ]
    },
    {
     "name": "stdout",
     "output_type": "stream",
     "text": [
      "[0 0 0 ... 1 1 1]\n"
     ]
    },
    {
     "data": {
      "image/png": "[encoded data removed]",
      "text/plain": [
       "<Figure size 432x288 with 1 Axes>"
      ]
     },
     "metadata": {},
     "output_type": "display_data"
    }
   ],
   "source": [
    "tttt(1)"
   ]
  },
  {
   "cell_type": "code",
   "execution_count": 26,
   "metadata": {},
   "outputs": [
    {
     "name": "stderr",
     "output_type": "stream",
     "text": [
      "No handles with labels found to put in legend.\n"
     ]
    },
    {
     "name": "stdout",
     "output_type": "stream",
     "text": [
      "[0 0 0 ... 1 1 1]\n"
     ]
    },
    {
     "data": {
      "image/png": "[encoded data removed]",
      "text/plain": [
       "<Figure size 432x288 with 1 Axes>"
      ]
     },
     "metadata": {},
     "output_type": "display_data"
    }
   ],
   "source": [
    "tttt(2)"
   ]
  },
  {
   "cell_type": "code",
   "execution_count": 27,
   "metadata": {
    "scrolled": true
   },
   "outputs": [
    {
     "name": "stderr",
     "output_type": "stream",
     "text": [
      "No handles with labels found to put in legend.\n"
     ]
    },
    {
     "name": "stdout",
     "output_type": "stream",
     "text": [
      "[0 0 0 ... 1 1 1]\n"
     ]
    },
    {
     "data": {
      "image/png": "[encoded data removed]",
      "text/plain": [
       "<Figure size 432x288 with 1 Axes>"
      ]
     },
     "metadata": {},
     "output_type": "display_data"
    }
   ],
   "source": [
    "tttt(3)"
   ]
  },
  {
   "cell_type": "code",
   "execution_count": 28,
   "metadata": {},
   "outputs": [
    {
     "name": "stderr",
     "output_type": "stream",
     "text": [
      "No handles with labels found to put in legend.\n"
     ]
    },
    {
     "name": "stdout",
     "output_type": "stream",
     "text": [
      "[0 0 0 ... 0 0 0]\n"
     ]
    },
    {
     "data": {
      "image/png": "[encoded data removed]",
      "text/plain": [
       "<Figure size 432x288 with 1 Axes>"
      ]
     },
     "metadata": {},
     "output_type": "display_data"
    }
   ],
   "source": [
    "tttt(4)"
   ]
  },
  {
   "cell_type": "code",
   "execution_count": 34,
   "metadata": {},
   "outputs": [
    {
     "name": "stderr",
     "output_type": "stream",
     "text": [
      "No handles with labels found to put in legend.\n"
     ]
    },
    {
     "name": "stdout",
     "output_type": "stream",
     "text": [
      "[1 1 1 ... 0 0 0]\n"
     ]
    },
    {
     "data": {
      "image/png": "[encoded data removed]",
      "text/plain": [
       "<Figure size 432x288 with 1 Axes>"
      ]
     },
     "metadata": {},
     "output_type": "display_data"
    }
   ],
   "source": [
    "tttt(5)"
   ]
  },
  {
   "cell_type": "code",
   "execution_count": 30,
   "metadata": {},
   "outputs": [
    {
     "name": "stderr",
     "output_type": "stream",
     "text": [
      "No handles with labels found to put in legend.\n"
     ]
    },
    {
     "name": "stdout",
     "output_type": "stream",
     "text": [
      "[1 1 1 ... 1 1 1]\n"
     ]
    },
    {
     "data": {
      "image/png": "[encoded data removed]",
      "text/plain": [
       "<Figure size 432x288 with 1 Axes>"
      ]
     },
     "metadata": {},
     "output_type": "display_data"
    }
   ],
   "source": [
    "tttt(6)"
   ]
  },
  {
   "cell_type": "markdown",
   "metadata": {},
   "source": [
    "Cases of the Decision algorithms.\n",
    "\n",
    "Any algorithm looks best fit. So, We need the solution\n",
    "\n",
    "So, We use the \"Emsemble method\". It's the First figure.\n",
    "\n",
    "We can look the best fit, then other figures."
   ]
  },
  {
   "cell_type": "code",
   "execution_count": null,
   "metadata": {},
   "outputs": [],
   "source": []
  }
 ],
 "metadata": {
  "kernelspec": {
   "display_name": "tensorflow-gpu",
   "language": "python",
   "name": "tensorflow-gpu"
  },
  "language_info": {
   "codemirror_mode": {
    "name": "ipython",
    "version": 3
   },
   "file_extension": ".py",
   "mimetype": "text/x-python",
   "name": "python",
   "nbconvert_exporter": "python",
   "pygments_lexer": "ipython3",
   "version": "3.5.2"
  }
 },
 "nbformat": 4,
 "nbformat_minor": 2
}
